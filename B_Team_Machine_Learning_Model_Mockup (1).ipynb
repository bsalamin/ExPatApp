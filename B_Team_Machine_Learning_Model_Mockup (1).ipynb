{
  "nbformat": 4,
  "nbformat_minor": 0,
  "metadata": {
    "colab": {
      "name": "B Team Machine Learning Model Mockup.ipynb",
      "provenance": [],
      "collapsed_sections": []
    },
    "kernelspec": {
      "name": "python3",
      "display_name": "Python 3"
    },
    "language_info": {
      "name": "python"
    }
  },
  "cells": [
    {
      "cell_type": "code",
      "execution_count": null,
      "metadata": {
        "id": "3kb8D580o1Y2"
      },
      "outputs": [],
      "source": [
        "# In this mockup, we will be setting up the bones of an unsupervised machine learning model that will cluster our country-level data for our Expat App.\n",
        "# At a high level, what will happen with the ML model is that it will use unsupervised learning to cluster countries from our data.\n",
        "#\n",
        "# Then, when we use a ranked-choice algorithm to choose a \"best\" country for a user based on their preferences, we will also be able to return\n",
        "# a cluster of \"similar\" countries the user can also consider. This seemed like the best possible way to use ML for our project for a few reasons:\n",
        "#\n",
        "# 1) It is difficult to use supervised learning in this circumstance because it is challenging to find data about where expatriated people moved\n",
        "# 2) Even if we used migration data to see where people did in fact move, that data doesn't tell us if they are satisfied with their new country\n",
        "# 3) Most of the data we are using can be made into a numerical form, and so clusters can happen by percentile and/or by normalization\n",
        "#\n",
        "# Also, if a particular data column is challenging to incorporate into our ML model (like language, where it can be hard to track related languages\n",
        "# without recourse to  more advanced techniques), we can instead give it to the end user as a filter (e.g. filter for countries where English is spoken)\n",
        "#\n",
        "# Because the number of rows in the datasets we are working with are relatively small, we will use hierarchical clustering instead of just K-Means\n",
        "#\n",
        "# SUMMARY: We are planning to use unsupervised learning to cluster our country-level data in addition to a ranked-choice-style algorithm that will choose\n",
        "# a country for expatriation based on user input. The user will weight/filter which of a small set of components is most important to them (indicators\n",
        "# include Economy, Health, Political System, Education, & Lifestyle) and then the algorithm will return the #1 country (via ranked choice), along with \n",
        "# its cluster of alternatives as determined by our unsupervised machine learning algorithm.\n",
        "#\n",
        "# We still need to have some drill-down conversations about specific aspects of the data that will be most important to our final dataframe, but\n",
        "# based on our conversations last week some of the columns are likely to include: GDP of the country, a cost of living index, internet speed, a happiness\n",
        "# index (along with some other health indicators), the human freedom index for the country, the average years of schooling, the literacy rate, an index\n",
        "# for gender equality in education, and a few indicators that affect lifestyle (some climatological data points, what languages are spoken in the country\n",
        "# + the % of English speakers, and some cultural indicators we are still working on solidifying like art, music, movies, literacy, nightlife, and others)"
      ]
    },
    {
      "cell_type": "code",
      "source": [
        "# Imports for hierarchical clustering\n",
        "import pandas as pd\n",
        "from sklearn.preprocessing import StandardScaler\n",
        "from sklearn.decomposition import PCA\n",
        "from sklearn.cluster import AgglomerativeClustering\n",
        "import hvplot.pandas"
      ],
      "metadata": {
        "id": "SRVgkWlYqSKk"
      },
      "execution_count": null,
      "outputs": []
    },
    {
      "cell_type": "code",
      "source": [
        "# A cell for importing the data from the database"
      ],
      "metadata": {
        "id": "fiIvcg4orurf"
      },
      "execution_count": null,
      "outputs": []
    },
    {
      "cell_type": "code",
      "source": [
        "# A cell for applying PCA"
      ],
      "metadata": {
        "id": "gYUWzg-frxW3"
      },
      "execution_count": null,
      "outputs": []
    },
    {
      "cell_type": "code",
      "source": [
        "import plotly.figure_factory as ff"
      ],
      "metadata": {
        "id": "S4dMWnJOrzb2"
      },
      "execution_count": null,
      "outputs": []
    },
    {
      "cell_type": "code",
      "source": [
        "# Create a dendrogram\n",
        "fig = ff.create_dendrogram(df_iris_pca, color_threshold=0)\n",
        "fig.update_layout(width=800, height=500)\n",
        "fig.show()"
      ],
      "metadata": {
        "id": "v2u2Cli3r36O"
      },
      "execution_count": null,
      "outputs": []
    },
    {
      "cell_type": "code",
      "source": [
        "# Perform agglomerative clustering\n",
        "agg = AgglomerativeClustering(n_clusters=3)\n",
        "model = agg.fit(df_iris_pca)"
      ],
      "metadata": {
        "id": "J8s6yg9ir5Tv"
      },
      "execution_count": null,
      "outputs": []
    },
    {
      "cell_type": "code",
      "source": [
        "# Add a new cluster column to the dataframe"
      ],
      "metadata": {
        "id": "j-NXvN2rtCGC"
      },
      "execution_count": null,
      "outputs": []
    },
    {
      "cell_type": "code",
      "source": [
        "# Create a plot to show the results of the hierarchical clustering algorithm"
      ],
      "metadata": {
        "id": "o7pzfsE2tFMN"
      },
      "execution_count": null,
      "outputs": []
    },
    {
      "cell_type": "code",
      "source": [
        "# (MAybe) perform statistical testing to verify differences between clusters?"
      ],
      "metadata": {
        "id": "gthaCQYZ3VF5"
      },
      "execution_count": null,
      "outputs": []
    },
    {
      "cell_type": "code",
      "source": [
        "# Search for the returned country's cluster & return the cluster"
      ],
      "metadata": {
        "id": "4VJQsT0bvZRd"
      },
      "execution_count": null,
      "outputs": []
    }
  ]
}